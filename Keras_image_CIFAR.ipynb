{
  "nbformat": 4,
  "nbformat_minor": 0,
  "metadata": {
    "colab": {
      "name": "Keras_image_CIFAR.ipynb",
      "provenance": [],
      "authorship_tag": "ABX9TyMM3AI3DScw5003wn5IfdA3",
      "include_colab_link": true
    },
    "kernelspec": {
      "name": "python3",
      "display_name": "Python 3"
    }
  },
  "cells": [
    {
      "cell_type": "markdown",
      "metadata": {
        "id": "view-in-github",
        "colab_type": "text"
      },
      "source": [
        "<a href=\"https://colab.research.google.com/github/Moin199/Moin199.github.io/blob/master/Keras_image_CIFAR.ipynb\" target=\"_parent\"><img src=\"https://colab.research.google.com/assets/colab-badge.svg\" alt=\"Open In Colab\"/></a>"
      ]
    },
    {
      "cell_type": "code",
      "metadata": {
        "id": "lKbXQw6dJ9OD"
      },
      "source": [
        "import pandas as pd\n",
        "import numpy as np\n",
        "\n",
        "import matplotlib.pyplot as plt\n",
        "%matplotlib inline"
      ],
      "execution_count": null,
      "outputs": []
    },
    {
      "cell_type": "code",
      "metadata": {
        "id": "8N-MMqbaK8O0"
      },
      "source": [
        "from tensorflow.keras.datasets import cifar10\n",
        "\n",
        "(x_train, y_train), (x_test, y_test) = cifar10.load_data()"
      ],
      "execution_count": null,
      "outputs": []
    },
    {
      "cell_type": "code",
      "metadata": {
        "id": "vexPJ4fsLBJa",
        "colab": {
          "base_uri": "https://localhost:8080/",
          "height": 34
        },
        "outputId": "ae8ece3f-9556-4c3e-8965-98e1687b7426"
      },
      "source": [
        "%tensorflow_version 2.x"
      ],
      "execution_count": null,
      "outputs": [
        {
          "output_type": "stream",
          "text": [
            "TensorFlow 2.x selected.\n"
          ],
          "name": "stdout"
        }
      ]
    },
    {
      "cell_type": "code",
      "metadata": {
        "id": "XL6mIzNMMfYp",
        "colab": {
          "base_uri": "https://localhost:8080/",
          "height": 34
        },
        "outputId": "8f73b20d-84db-4ab9-d860-fdce657e26a0"
      },
      "source": [
        "x_train.shape"
      ],
      "execution_count": null,
      "outputs": [
        {
          "output_type": "execute_result",
          "data": {
            "text/plain": [
              "(50000, 32, 32, 3)"
            ]
          },
          "metadata": {
            "tags": []
          },
          "execution_count": 3
        }
      ]
    },
    {
      "cell_type": "code",
      "metadata": {
        "id": "GMBjx4p3NuTX",
        "colab": {
          "base_uri": "https://localhost:8080/",
          "height": 283
        },
        "outputId": "cc250a92-417a-4b2e-88eb-dd2c7a9631f4"
      },
      "source": [
        "plt.imshow(x_train[0])"
      ],
      "execution_count": null,
      "outputs": [
        {
          "output_type": "execute_result",
          "data": {
            "text/plain": [
              "<matplotlib.image.AxesImage at 0x7f5ff5600b70>"
            ]
          },
          "metadata": {
            "tags": []
          },
          "execution_count": 5
        },
        {
          "output_type": "display_data",
          "data": {
            "image/png": "[encoded data removed]",
            "text/plain": [
              "<Figure size 432x288 with 1 Axes>"
            ]
          },
          "metadata": {
            "tags": []
          }
        }
      ]
    },
    {
      "cell_type": "code",
      "metadata": {
        "id": "6f_CGiNdN8wl",
        "colab": {
          "base_uri": "https://localhost:8080/",
          "height": 34
        },
        "outputId": "aa70c557-9bdd-4352-e882-da40a23ce64d"
      },
      "source": [
        "x_train.max()"
      ],
      "execution_count": null,
      "outputs": [
        {
          "output_type": "execute_result",
          "data": {
            "text/plain": [
              "255"
            ]
          },
          "metadata": {
            "tags": []
          },
          "execution_count": 6
        }
      ]
    },
    {
      "cell_type": "code",
      "metadata": {
        "id": "k79npdV5Op6Z"
      },
      "source": [
        "x_train=x_train/255\n",
        "x_test=x_test/255"
      ],
      "execution_count": null,
      "outputs": []
    },
    {
      "cell_type": "code",
      "metadata": {
        "id": "b_gKtmvKOvj2",
        "colab": {
          "base_uri": "https://localhost:8080/",
          "height": 136
        },
        "outputId": "d9ac2485-a353-4fd3-fc2c-d5d62c11f49f"
      },
      "source": [
        "y_train"
      ],
      "execution_count": null,
      "outputs": [
        {
          "output_type": "execute_result",
          "data": {
            "text/plain": [
              "array([[6],\n",
              "       [9],\n",
              "       [9],\n",
              "       ...,\n",
              "       [9],\n",
              "       [1],\n",
              "       [1]], dtype=uint8)"
            ]
          },
          "metadata": {
            "tags": []
          },
          "execution_count": 8
        }
      ]
    },
    {
      "cell_type": "code",
      "metadata": {
        "id": "6dKjkC2SOxhe"
      },
      "source": [
        "from tensorflow.keras.utils import to_categorical"
      ],
      "execution_count": null,
      "outputs": []
    },
    {
      "cell_type": "code",
      "metadata": {
        "id": "RFBnT5ZzO3r8"
      },
      "source": [
        "y_cat_train=to_categorical(y_train,10)\n",
        "y_cat_test=to_categorical(y_test,10)"
      ],
      "execution_count": null,
      "outputs": []
    },
    {
      "cell_type": "code",
      "metadata": {
        "id": "bb4c4m0UPDNg",
        "colab": {
          "base_uri": "https://localhost:8080/",
          "height": 136
        },
        "outputId": "0b909031-81d8-471b-e5f2-a421bc922896"
      },
      "source": [
        "y_cat_test"
      ],
      "execution_count": null,
      "outputs": [
        {
          "output_type": "execute_result",
          "data": {
            "text/plain": [
              "array([[0., 0., 0., ..., 0., 0., 0.],\n",
              "       [0., 0., 0., ..., 0., 1., 0.],\n",
              "       [0., 0., 0., ..., 0., 1., 0.],\n",
              "       ...,\n",
              "       [0., 0., 0., ..., 0., 0., 0.],\n",
              "       [0., 1., 0., ..., 0., 0., 0.],\n",
              "       [0., 0., 0., ..., 1., 0., 0.]], dtype=float32)"
            ]
          },
          "metadata": {
            "tags": []
          },
          "execution_count": 11
        }
      ]
    },
    {
      "cell_type": "code",
      "metadata": {
        "id": "aM_a_ohdPES4"
      },
      "source": [
        "from tensorflow.keras.models import Sequential\n",
        "from tensorflow.keras.layers import Dense,Conv2D,MaxPool2D,Flatten"
      ],
      "execution_count": null,
      "outputs": []
    },
    {
      "cell_type": "code",
      "metadata": {
        "id": "FaZKhKC-Piqx"
      },
      "source": [
        "model=Sequential()\n",
        "\n",
        "#model.add(Conv2D(filters=32, kernel_size=(4,4),input_shape(32, 32, 3), activation='relu',))\n",
        "#model.add(MaxPool2D(pool_size=(2,2)))\n",
        "# CONVOLUTIONAL LAYER\n",
        "model.add(Conv2D(filters=32, kernel_size=(4,4),input_shape=(32, 32, 3), activation='relu',))\n",
        "# POOLING LAYER\n",
        "model.add(MaxPool2D(pool_size=(2, 2)))\n",
        "model.add(Conv2D(filters=32, kernel_size=(4,4),input_shape=(32, 32, 3), activation='relu',))\n",
        "# POOLING LAYER\n",
        "model.add(MaxPool2D(pool_size=(2, 2)))\n",
        "\n",
        "model.add(Flatten())\n",
        "\n",
        "model.add(Dense(256,activation='relu'))\n",
        "\n",
        "model.add(Dense(10,activation='softmax'))\n",
        "model.compile(loss='categorical_crossentropy',optimizer='adam',metrics=['accuracy'])"
      ],
      "execution_count": null,
      "outputs": []
    },
    {
      "cell_type": "code",
      "metadata": {
        "id": "J0QvRwM2TSwk",
        "colab": {
          "base_uri": "https://localhost:8080/",
          "height": 391
        },
        "outputId": "3641b8aa-aa35-491e-b268-be8b8fd7a680"
      },
      "source": [
        "model.summary()"
      ],
      "execution_count": null,
      "outputs": [
        {
          "output_type": "stream",
          "text": [
            "Model: \"sequential_2\"\n",
            "_________________________________________________________________\n",
            "Layer (type)                 Output Shape              Param #   \n",
            "=================================================================\n",
            "conv2d_2 (Conv2D)            (None, 29, 29, 32)        1568      \n",
            "_________________________________________________________________\n",
            "max_pooling2d_2 (MaxPooling2 (None, 14, 14, 32)        0         \n",
            "_________________________________________________________________\n",
            "conv2d_3 (Conv2D)            (None, 11, 11, 32)        16416     \n",
            "_________________________________________________________________\n",
            "max_pooling2d_3 (MaxPooling2 (None, 5, 5, 32)          0         \n",
            "_________________________________________________________________\n",
            "flatten_1 (Flatten)          (None, 800)               0         \n",
            "_________________________________________________________________\n",
            "dense_2 (Dense)              (None, 256)               205056    \n",
            "_________________________________________________________________\n",
            "dense_3 (Dense)              (None, 10)                2570      \n",
            "=================================================================\n",
            "Total params: 225,610\n",
            "Trainable params: 225,610\n",
            "Non-trainable params: 0\n",
            "_________________________________________________________________\n"
          ],
          "name": "stdout"
        }
      ]
    },
    {
      "cell_type": "code",
      "metadata": {
        "id": "EWcqolbpPvUl"
      },
      "source": [
        "from tensorflow.keras.callbacks import EarlyStopping"
      ],
      "execution_count": null,
      "outputs": []
    },
    {
      "cell_type": "code",
      "metadata": {
        "id": "XQlUCPVGT5UX"
      },
      "source": [
        "early_stop=EarlyStopping(monitor='val_loss',patience=3)"
      ],
      "execution_count": null,
      "outputs": []
    },
    {
      "cell_type": "code",
      "metadata": {
        "id": "Q30YVMIYUFEJ",
        "colab": {
          "base_uri": "https://localhost:8080/",
          "height": 343
        },
        "outputId": "8d1fea36-d546-4e13-c10b-3b72eb83b50a"
      },
      "source": [
        "model.fit(x_train,y_cat_train,validation_data=(x_test,y_cat_test),epochs=20,callbacks=[early_stop])"
      ],
      "execution_count": null,
      "outputs": [
        {
          "output_type": "stream",
          "text": [
            "Train on 50000 samples, validate on 10000 samples\n",
            "Epoch 1/20\n",
            "50000/50000 [==============================] - 63s 1ms/sample - loss: 1.4866 - accuracy: 0.4640 - val_loss: 1.2891 - val_accuracy: 0.5334\n",
            "Epoch 2/20\n",
            "50000/50000 [==============================] - 62s 1ms/sample - loss: 1.1588 - accuracy: 0.5922 - val_loss: 1.1912 - val_accuracy: 0.5857\n",
            "Epoch 3/20\n",
            "50000/50000 [==============================] - 62s 1ms/sample - loss: 1.0135 - accuracy: 0.6461 - val_loss: 1.0343 - val_accuracy: 0.6379\n",
            "Epoch 4/20\n",
            "50000/50000 [==============================] - 61s 1ms/sample - loss: 0.9169 - accuracy: 0.6803 - val_loss: 0.9664 - val_accuracy: 0.6609\n",
            "Epoch 5/20\n",
            "50000/50000 [==============================] - 62s 1ms/sample - loss: 0.8320 - accuracy: 0.7123 - val_loss: 0.9354 - val_accuracy: 0.6806\n",
            "Epoch 6/20\n",
            "50000/50000 [==============================] - 61s 1ms/sample - loss: 0.7556 - accuracy: 0.7368 - val_loss: 0.9840 - val_accuracy: 0.6594\n",
            "Epoch 7/20\n",
            "50000/50000 [==============================] - 62s 1ms/sample - loss: 0.6891 - accuracy: 0.7593 - val_loss: 0.9822 - val_accuracy: 0.6786\n",
            "Epoch 8/20\n",
            "50000/50000 [==============================] - 62s 1ms/sample - loss: 0.6189 - accuracy: 0.7838 - val_loss: 0.9566 - val_accuracy: 0.6855\n"
          ],
          "name": "stdout"
        },
        {
          "output_type": "execute_result",
          "data": {
            "text/plain": [
              "<tensorflow.python.keras.callbacks.History at 0x7f5f56d11c88>"
            ]
          },
          "metadata": {
            "tags": []
          },
          "execution_count": 26
        }
      ]
    },
    {
      "cell_type": "code",
      "metadata": {
        "id": "u6AkDg9jUY5r"
      },
      "source": [
        "metrics=pd.DataFrame(model.history.history)"
      ],
      "execution_count": null,
      "outputs": []
    },
    {
      "cell_type": "code",
      "metadata": {
        "id": "ZRvc82mnXAwP",
        "colab": {
          "base_uri": "https://localhost:8080/",
          "height": 297
        },
        "outputId": "0fdebf6a-58f2-4063-af5e-244ea5fc7832"
      },
      "source": [
        "metrics"
      ],
      "execution_count": null,
      "outputs": [
        {
          "output_type": "execute_result",
          "data": {
            "text/html": [
              "<div>\n",
              "<style scoped>\n",
              "    .dataframe tbody tr th:only-of-type {\n",
              "        vertical-align: middle;\n",
              "    }\n",
              "\n",
              "    .dataframe tbody tr th {\n",
              "        vertical-align: top;\n",
              "    }\n",
              "\n",
              "    .dataframe thead th {\n",
              "        text-align: right;\n",
              "    }\n",
              "</style>\n",
              "<table border=\"1\" class=\"dataframe\">\n",
              "  <thead>\n",
              "    <tr style=\"text-align: right;\">\n",
              "      <th></th>\n",
              "      <th>loss</th>\n",
              "      <th>accuracy</th>\n",
              "      <th>val_loss</th>\n",
              "      <th>val_accuracy</th>\n",
              "    </tr>\n",
              "  </thead>\n",
              "  <tbody>\n",
              "    <tr>\n",
              "      <th>0</th>\n",
              "      <td>1.486614</td>\n",
              "      <td>0.46404</td>\n",
              "      <td>1.289079</td>\n",
              "      <td>0.5334</td>\n",
              "    </tr>\n",
              "    <tr>\n",
              "      <th>1</th>\n",
              "      <td>1.158812</td>\n",
              "      <td>0.59218</td>\n",
              "      <td>1.191167</td>\n",
              "      <td>0.5857</td>\n",
              "    </tr>\n",
              "    <tr>\n",
              "      <th>2</th>\n",
              "      <td>1.013503</td>\n",
              "      <td>0.64612</td>\n",
              "      <td>1.034274</td>\n",
              "      <td>0.6379</td>\n",
              "    </tr>\n",
              "    <tr>\n",
              "      <th>3</th>\n",
              "      <td>0.916902</td>\n",
              "      <td>0.68030</td>\n",
              "      <td>0.966352</td>\n",
              "      <td>0.6609</td>\n",
              "    </tr>\n",
              "    <tr>\n",
              "      <th>4</th>\n",
              "      <td>0.831972</td>\n",
              "      <td>0.71228</td>\n",
              "      <td>0.935443</td>\n",
              "      <td>0.6806</td>\n",
              "    </tr>\n",
              "    <tr>\n",
              "      <th>5</th>\n",
              "      <td>0.755578</td>\n",
              "      <td>0.73678</td>\n",
              "      <td>0.983961</td>\n",
              "      <td>0.6594</td>\n",
              "    </tr>\n",
              "    <tr>\n",
              "      <th>6</th>\n",
              "      <td>0.689110</td>\n",
              "      <td>0.75926</td>\n",
              "      <td>0.982170</td>\n",
              "      <td>0.6786</td>\n",
              "    </tr>\n",
              "    <tr>\n",
              "      <th>7</th>\n",
              "      <td>0.618915</td>\n",
              "      <td>0.78376</td>\n",
              "      <td>0.956630</td>\n",
              "      <td>0.6855</td>\n",
              "    </tr>\n",
              "  </tbody>\n",
              "</table>\n",
              "</div>"
            ],
            "text/plain": [
              "       loss  accuracy  val_loss  val_accuracy\n",
              "0  1.486614   0.46404  1.289079        0.5334\n",
              "1  1.158812   0.59218  1.191167        0.5857\n",
              "2  1.013503   0.64612  1.034274        0.6379\n",
              "3  0.916902   0.68030  0.966352        0.6609\n",
              "4  0.831972   0.71228  0.935443        0.6806\n",
              "5  0.755578   0.73678  0.983961        0.6594\n",
              "6  0.689110   0.75926  0.982170        0.6786\n",
              "7  0.618915   0.78376  0.956630        0.6855"
            ]
          },
          "metadata": {
            "tags": []
          },
          "execution_count": 30
        }
      ]
    },
    {
      "cell_type": "code",
      "metadata": {
        "id": "TisPRvkTXCQu",
        "colab": {
          "base_uri": "https://localhost:8080/",
          "height": 282
        },
        "outputId": "8d5ab622-39fe-4759-f87b-27cb84cc0da5"
      },
      "source": [
        "metrics[['loss','val_loss']].plot()"
      ],
      "execution_count": null,
      "outputs": [
        {
          "output_type": "execute_result",
          "data": {
            "text/plain": [
              "<matplotlib.axes._subplots.AxesSubplot at 0x7f5f54c7f240>"
            ]
          },
          "metadata": {
            "tags": []
          },
          "execution_count": 32
        },
        {
          "output_type": "display_data",
          "data": {
            "image/png": "[encoded data removed]",
            "text/plain": [
              "<Figure size 432x288 with 1 Axes>"
            ]
          },
          "metadata": {
            "tags": []
          }
        }
      ]
    },
    {
      "cell_type": "code",
      "metadata": {
        "id": "CX-RskdpXNHG",
        "colab": {
          "base_uri": "https://localhost:8080/",
          "height": 282
        },
        "outputId": "2811bfec-6a85-4ba3-a4c9-9c5fba803f52"
      },
      "source": [
        "metrics[['accuracy','val_accuracy']].plot()"
      ],
      "execution_count": null,
      "outputs": [
        {
          "output_type": "execute_result",
          "data": {
            "text/plain": [
              "<matplotlib.axes._subplots.AxesSubplot at 0x7f5f54d0d5f8>"
            ]
          },
          "metadata": {
            "tags": []
          },
          "execution_count": 33
        },
        {
          "output_type": "display_data",
          "data": {
            "image/png": "[encoded data removed]",
            "text/plain": [
              "<Figure size 432x288 with 1 Axes>"
            ]
          },
          "metadata": {
            "tags": []
          }
        }
      ]
    },
    {
      "cell_type": "code",
      "metadata": {
        "id": "gvXQoG2aXYbD"
      },
      "source": [
        "from sklearn.metrics import classification_report,confusion_matrix"
      ],
      "execution_count": null,
      "outputs": []
    },
    {
      "cell_type": "code",
      "metadata": {
        "id": "A3ZagTHyXecc"
      },
      "source": [
        "predictions=model.predict_classes(x_test)"
      ],
      "execution_count": null,
      "outputs": []
    },
    {
      "cell_type": "code",
      "metadata": {
        "id": "xyZiWMJWXl4J",
        "colab": {
          "base_uri": "https://localhost:8080/",
          "height": 34
        },
        "outputId": "6c0944d7-54e9-4927-e569-0bea2a65aa8f"
      },
      "source": [
        "predictions.shape"
      ],
      "execution_count": null,
      "outputs": [
        {
          "output_type": "execute_result",
          "data": {
            "text/plain": [
              "(10000,)"
            ]
          },
          "metadata": {
            "tags": []
          },
          "execution_count": 36
        }
      ]
    },
    {
      "cell_type": "code",
      "metadata": {
        "id": "gfchxDz5Xo94",
        "colab": {
          "base_uri": "https://localhost:8080/",
          "height": 306
        },
        "outputId": "8e8bd949-093c-467d-f455-e26c8a5a7ce3"
      },
      "source": [
        "print(classification_report(y_test,predictions))"
      ],
      "execution_count": null,
      "outputs": [
        {
          "output_type": "stream",
          "text": [
            "              precision    recall  f1-score   support\n",
            "\n",
            "           0       0.65      0.79      0.71      1000\n",
            "           1       0.84      0.77      0.80      1000\n",
            "           2       0.63      0.51      0.56      1000\n",
            "           3       0.55      0.48      0.51      1000\n",
            "           4       0.63      0.66      0.64      1000\n",
            "           5       0.63      0.52      0.57      1000\n",
            "           6       0.66      0.82      0.73      1000\n",
            "           7       0.73      0.74      0.73      1000\n",
            "           8       0.80      0.78      0.79      1000\n",
            "           9       0.74      0.81      0.77      1000\n",
            "\n",
            "    accuracy                           0.69     10000\n",
            "   macro avg       0.68      0.69      0.68     10000\n",
            "weighted avg       0.68      0.69      0.68     10000\n",
            "\n"
          ],
          "name": "stdout"
        }
      ]
    },
    {
      "cell_type": "code",
      "metadata": {
        "id": "1w0bP5b4XurZ",
        "colab": {
          "base_uri": "https://localhost:8080/",
          "height": 187
        },
        "outputId": "e56cc21c-0e29-497b-b1de-86cf37481683"
      },
      "source": [
        "confusion_matrix(y_test,predictions)"
      ],
      "execution_count": null,
      "outputs": [
        {
          "output_type": "execute_result",
          "data": {
            "text/plain": [
              "array([[787,  15,  22,  15,  22,   6,  18,  12,  71,  32],\n",
              "       [ 43, 773,   3,   4,   6,   4,  12,   2,  28, 125],\n",
              "       [105,   8, 507,  63,  92,  63,  96,  34,  16,  16],\n",
              "       [ 33,  15,  66, 478,  94, 128, 104,  44,  17,  21],\n",
              "       [ 27,   7,  62,  38, 655,  20,  87,  80,  17,   7],\n",
              "       [ 28,   6,  70, 168,  56, 515,  62,  73,  10,  12],\n",
              "       [ 13,   7,  36,  39,  40,  18, 823,   9,   8,   7],\n",
              "       [ 32,   8,  28,  46,  55,  46,  21, 736,   3,  25],\n",
              "       [104,  28,   9,  10,   9,   7,  13,   7, 775,  38],\n",
              "       [ 44,  58,   5,  14,   6,  10,  15,  14,  28, 806]])"
            ]
          },
          "metadata": {
            "tags": []
          },
          "execution_count": 40
        }
      ]
    },
    {
      "cell_type": "code",
      "metadata": {
        "id": "eT4CWCOrX1N3",
        "colab": {
          "base_uri": "https://localhost:8080/",
          "height": 34
        },
        "outputId": "da7a3e71-21ca-4888-eca7-786b61d5c97a"
      },
      "source": [
        "y_cat_test.shape"
      ],
      "execution_count": null,
      "outputs": [
        {
          "output_type": "execute_result",
          "data": {
            "text/plain": [
              "(10000, 10)"
            ]
          },
          "metadata": {
            "tags": []
          },
          "execution_count": 39
        }
      ]
    },
    {
      "cell_type": "code",
      "metadata": {
        "id": "Qgv1bTWCX5YX"
      },
      "source": [
        "new_class=x_train[5]"
      ],
      "execution_count": null,
      "outputs": []
    },
    {
      "cell_type": "code",
      "metadata": {
        "id": "T16EYaNsYURW",
        "colab": {
          "base_uri": "https://localhost:8080/",
          "height": 34
        },
        "outputId": "3f82b699-18a8-442e-ef11-48cc1d7177d0"
      },
      "source": [
        "new_class.shape"
      ],
      "execution_count": null,
      "outputs": [
        {
          "output_type": "execute_result",
          "data": {
            "text/plain": [
              "(32, 32, 3)"
            ]
          },
          "metadata": {
            "tags": []
          },
          "execution_count": 44
        }
      ]
    },
    {
      "cell_type": "code",
      "metadata": {
        "id": "Or3ZKm5BYXse",
        "colab": {
          "base_uri": "https://localhost:8080/",
          "height": 283
        },
        "outputId": "49a63eb0-0363-497f-e652-66a71dcdf0ec"
      },
      "source": [
        "plt.imshow(new_class)"
      ],
      "execution_count": null,
      "outputs": [
        {
          "output_type": "execute_result",
          "data": {
            "text/plain": [
              "<matplotlib.image.AxesImage at 0x7f5f4d3a9cf8>"
            ]
          },
          "metadata": {
            "tags": []
          },
          "execution_count": 45
        },
        {
          "output_type": "display_data",
          "data": {
            "image/png": "[encoded data removed]",
            "text/plain": [
              "<Figure size 432x288 with 1 Axes>"
            ]
          },
          "metadata": {
            "tags": []
          }
        }
      ]
    },
    {
      "cell_type": "code",
      "metadata": {
        "id": "R2vjWfmjYiaj",
        "colab": {
          "base_uri": "https://localhost:8080/",
          "height": 34
        },
        "outputId": "7b48215a-99e5-4acf-ab10-2f12313b0e28"
      },
      "source": [
        "model.predict_classes(new_class.reshape(1,32,32,3))"
      ],
      "execution_count": null,
      "outputs": [
        {
          "output_type": "execute_result",
          "data": {
            "text/plain": [
              "array([1])"
            ]
          },
          "metadata": {
            "tags": []
          },
          "execution_count": 46
        }
      ]
    },
    {
      "cell_type": "code",
      "metadata": {
        "id": "RnA9gSjaYr4p",
        "colab": {
          "base_uri": "https://localhost:8080/",
          "height": 34
        },
        "outputId": "e3f2b08b-48ae-4fc8-ea1c-f9fcdc3f92d9"
      },
      "source": [
        "y_train[5]"
      ],
      "execution_count": null,
      "outputs": [
        {
          "output_type": "execute_result",
          "data": {
            "text/plain": [
              "array([1], dtype=uint8)"
            ]
          },
          "metadata": {
            "tags": []
          },
          "execution_count": 47
        }
      ]
    },
    {
      "cell_type": "code",
      "metadata": {
        "id": "w6IlFhwmYvSf"
      },
      "source": [
        ""
      ],
      "execution_count": null,
      "outputs": []
    }
  ]
}